{
  "nbformat": 4,
  "nbformat_minor": 0,
  "metadata": {
    "colab": {
      "provenance": []
    },
    "kernelspec": {
      "name": "python3",
      "display_name": "Python 3"
    },
    "language_info": {
      "name": "python"
    }
  },
  "cells": [
    {
      "cell_type": "code",
      "execution_count": 2,
      "metadata": {
        "id": "ZOB6He_MSJZh"
      },
      "outputs": [],
      "source": [
        "import pandas as pd\n",
        "import matplotlib.pyplot as plt\n",
        "from sklearn.cluster import KMeans\n",
        "\n",
        "df1 = pd.read_csv(\"Term Test-1-result.csv\")\n",
        "df2 = pd.read_csv(\"Term Test-2-result.csv\")"
      ]
    },
    {
      "cell_type": "code",
      "source": [
        "df_merged = pd.merge(df1, df2, on=[\"Registration Number\", \"Name\"])\n",
        "print(df_merged)"
      ],
      "metadata": {
        "colab": {
          "base_uri": "https://localhost:8080/"
        },
        "id": "AOnwWCgPSUn8",
        "outputId": "f2d66327-0d67-4bcd-fd07-3a504e2925da"
      },
      "execution_count": 3,
      "outputs": [
        {
          "output_type": "stream",
          "name": "stdout",
          "text": [
            "    Registration Number                   Name  TT 1 Marks   TT 2 Marks\n",
            "0                 21001          Salma Sultana         14.5        15.5\n",
            "1                 21002          Tamjidul Miad          8.5        13.5\n",
            "2                 21003        Debabrata Dhar          11.5        15.5\n",
            "3                 21004           Sabiha Akter         13.0        15.0\n",
            "4                 21005           Avishak Dhar         16.0        10.5\n",
            "5                 21006         Syeda Sabrina          14.5        12.5\n",
            "6                 21007          Mainul Islam          16.5        17.0\n",
            "7                 21008            Syeda Israt         13.5         8.5\n",
            "8                 21009     Tanvia Akter Prome          8.5        15.0\n",
            "9                 21010   Md. Ohiduzzaman Anik         18.5        17.0\n",
            "10                21011      Shahila Chowdhury         18.5        17.5\n",
            "11                21012       Shawon Sutradhar         18.0        17.0\n",
            "12                21013          Nur Mohammad          15.5         7.5\n",
            "13                21014            Akash Ahmed         11.5        14.5\n",
            "14                21015          Mahmuda Afzal         13.5        16.5\n",
            "15                21016              Md. Sagar         15.5        14.5\n",
            "16                21017             Progga Roy         14.0        13.0\n",
            "17                21018          Md. Ilias Ali         12.5        14.0\n",
            "18                21019        Md. Tasnim Alam          4.5        15.5\n",
            "19                21020               Dipa Deb         18.0        16.5\n",
            "20                21021          Shahin Ahmed          16.5        17.5\n",
            "21                21022       Md. Nashim Ahmed         17.5        16.5\n",
            "22                21023        Sumona Bhowmik          12.5        14.0\n",
            "23                21024         Sheakh Fahimur         15.5        14.0\n",
            "24                21025      Mitu Chakroborthi         10.0        15.5\n",
            "25                21026            Saima Islam          9.5        13.5\n",
            "26                21027     Chowdhury Shahrear         18.0        16.0\n",
            "27                21028             Akash Paul         17.5        15.5\n",
            "28                21029      Sobuj Chandra Das         12.0        15.0\n",
            "29                21030  Akber Shiddique Sunny         13.0        13.5\n",
            "30                21031     Sumaiya Akter Sumi         16.0        16.5\n",
            "31                21032             Md. Shakil         11.5        13.0\n",
            "32                21033           Md Abu Sayed         10.5        12.0\n",
            "33                21034     Sanjida Kabir Ento         15.5        16.0\n",
            "34                21035            Tania Begum         14.0        16.5\n",
            "35                21036            Md. Zakaria         14.0        12.5\n",
            "36                21037             Tamim Miah         17.5        16.5\n",
            "37                21038       Tasnim Tabassum           5.0        10.5\n",
            "38                21039      Mst. Faujia Afrin         17.5        15.5\n",
            "39                21040          Sumita Rymbai         18.5        14.5\n",
            "40                21041          Nafiul Muksit          0.0        14.0\n",
            "41                21042            Akash Naidu         10.5        15.5\n",
            "42                21043       Md. Arafat Hosan         16.5        16.5\n",
            "43                21044           Billah Adnan         17.0         1.0\n",
            "44                21045         Hussain Shohag         18.5        18.0\n",
            "45                21046    Nishat Jahan Borsha         11.5        14.0\n",
            "46                21047        Mahpara Hossain          9.0        12.5\n",
            "47                21048          Hosain Refaz          16.0        13.0\n",
            "48                21049       Md. Arafat Hosan         14.0        16.5\n",
            "49                21050       Muntasir Billah          13.0        15.0\n"
          ]
        }
      ]
    },
    {
      "cell_type": "code",
      "source": [
        "df_merged.rename(columns={\"TT 1 Marks \": \"TT-1 Marks\", \"TT 2 Marks\": \"TT-2 Marks\"}, inplace=True)\n",
        "print(df_merged.columns)"
      ],
      "metadata": {
        "colab": {
          "base_uri": "https://localhost:8080/"
        },
        "id": "Uvs8OlWOScwD",
        "outputId": "3b1f19be-044a-469e-f8d4-35027d39a31c"
      },
      "execution_count": 4,
      "outputs": [
        {
          "output_type": "stream",
          "name": "stdout",
          "text": [
            "Index(['Registration Number', 'Name', 'TT-1 Marks', 'TT-2 Marks'], dtype='object')\n"
          ]
        }
      ]
    },
    {
      "cell_type": "code",
      "source": [
        "df_merged[\"Best Marks\"] = df_merged[[\"TT-1 Marks\", \"TT-2 Marks\"]].max(axis=1)\n",
        "df_merged[\"Average Marks\"] = df_merged[[\"TT-1 Marks\", \"TT-2 Marks\"]].mean(axis=1)\n",
        "print(df_merged)"
      ],
      "metadata": {
        "colab": {
          "base_uri": "https://localhost:8080/"
        },
        "id": "pReJAK6uS92W",
        "outputId": "b434039f-99bc-4ed6-eafb-8da8e91b3202"
      },
      "execution_count": 13,
      "outputs": [
        {
          "output_type": "stream",
          "name": "stdout",
          "text": [
            "    Registration Number                   Name  TT-1 Marks  TT-2 Marks  \\\n",
            "0                 21001          Salma Sultana        14.5        15.5   \n",
            "1                 21002          Tamjidul Miad         8.5        13.5   \n",
            "2                 21003        Debabrata Dhar         11.5        15.5   \n",
            "3                 21004           Sabiha Akter        13.0        15.0   \n",
            "4                 21005           Avishak Dhar        16.0        10.5   \n",
            "5                 21006         Syeda Sabrina         14.5        12.5   \n",
            "6                 21007          Mainul Islam         16.5        17.0   \n",
            "7                 21008            Syeda Israt        13.5         8.5   \n",
            "8                 21009     Tanvia Akter Prome         8.5        15.0   \n",
            "9                 21010   Md. Ohiduzzaman Anik        18.5        17.0   \n",
            "10                21011      Shahila Chowdhury        18.5        17.5   \n",
            "11                21012       Shawon Sutradhar        18.0        17.0   \n",
            "12                21013          Nur Mohammad         15.5         7.5   \n",
            "13                21014            Akash Ahmed        11.5        14.5   \n",
            "14                21015          Mahmuda Afzal        13.5        16.5   \n",
            "15                21016              Md. Sagar        15.5        14.5   \n",
            "16                21017             Progga Roy        14.0        13.0   \n",
            "17                21018          Md. Ilias Ali        12.5        14.0   \n",
            "18                21019        Md. Tasnim Alam         4.5        15.5   \n",
            "19                21020               Dipa Deb        18.0        16.5   \n",
            "20                21021          Shahin Ahmed         16.5        17.5   \n",
            "21                21022       Md. Nashim Ahmed        17.5        16.5   \n",
            "22                21023        Sumona Bhowmik         12.5        14.0   \n",
            "23                21024         Sheakh Fahimur        15.5        14.0   \n",
            "24                21025      Mitu Chakroborthi        10.0        15.5   \n",
            "25                21026            Saima Islam         9.5        13.5   \n",
            "26                21027     Chowdhury Shahrear        18.0        16.0   \n",
            "27                21028             Akash Paul        17.5        15.5   \n",
            "28                21029      Sobuj Chandra Das        12.0        15.0   \n",
            "29                21030  Akber Shiddique Sunny        13.0        13.5   \n",
            "30                21031     Sumaiya Akter Sumi        16.0        16.5   \n",
            "31                21032             Md. Shakil        11.5        13.0   \n",
            "32                21033           Md Abu Sayed        10.5        12.0   \n",
            "33                21034     Sanjida Kabir Ento        15.5        16.0   \n",
            "34                21035            Tania Begum        14.0        16.5   \n",
            "35                21036            Md. Zakaria        14.0        12.5   \n",
            "36                21037             Tamim Miah        17.5        16.5   \n",
            "37                21038       Tasnim Tabassum          5.0        10.5   \n",
            "38                21039      Mst. Faujia Afrin        17.5        15.5   \n",
            "39                21040          Sumita Rymbai        18.5        14.5   \n",
            "40                21041          Nafiul Muksit         0.0        14.0   \n",
            "41                21042            Akash Naidu        10.5        15.5   \n",
            "42                21043       Md. Arafat Hosan        16.5        16.5   \n",
            "43                21044           Billah Adnan        17.0         1.0   \n",
            "44                21045         Hussain Shohag        18.5        18.0   \n",
            "45                21046    Nishat Jahan Borsha        11.5        14.0   \n",
            "46                21047        Mahpara Hossain         9.0        12.5   \n",
            "47                21048          Hosain Refaz         16.0        13.0   \n",
            "48                21049       Md. Arafat Hosan        14.0        16.5   \n",
            "49                21050       Muntasir Billah         13.0        15.0   \n",
            "\n",
            "    Best Marks  Average Marks  \n",
            "0         15.5          15.00  \n",
            "1         13.5          11.00  \n",
            "2         15.5          13.50  \n",
            "3         15.0          14.00  \n",
            "4         16.0          13.25  \n",
            "5         14.5          13.50  \n",
            "6         17.0          16.75  \n",
            "7         13.5          11.00  \n",
            "8         15.0          11.75  \n",
            "9         18.5          17.75  \n",
            "10        18.5          18.00  \n",
            "11        18.0          17.50  \n",
            "12        15.5          11.50  \n",
            "13        14.5          13.00  \n",
            "14        16.5          15.00  \n",
            "15        15.5          15.00  \n",
            "16        14.0          13.50  \n",
            "17        14.0          13.25  \n",
            "18        15.5          10.00  \n",
            "19        18.0          17.25  \n",
            "20        17.5          17.00  \n",
            "21        17.5          17.00  \n",
            "22        14.0          13.25  \n",
            "23        15.5          14.75  \n",
            "24        15.5          12.75  \n",
            "25        13.5          11.50  \n",
            "26        18.0          17.00  \n",
            "27        17.5          16.50  \n",
            "28        15.0          13.50  \n",
            "29        13.5          13.25  \n",
            "30        16.5          16.25  \n",
            "31        13.0          12.25  \n",
            "32        12.0          11.25  \n",
            "33        16.0          15.75  \n",
            "34        16.5          15.25  \n",
            "35        14.0          13.25  \n",
            "36        17.5          17.00  \n",
            "37        10.5           7.75  \n",
            "38        17.5          16.50  \n",
            "39        18.5          16.50  \n",
            "40        14.0           7.00  \n",
            "41        15.5          13.00  \n",
            "42        16.5          16.50  \n",
            "43        17.0           9.00  \n",
            "44        18.5          18.25  \n",
            "45        14.0          12.75  \n",
            "46        12.5          10.75  \n",
            "47        16.0          14.50  \n",
            "48        16.5          15.25  \n",
            "49        15.0          14.00  \n"
          ]
        }
      ]
    },
    {
      "cell_type": "code",
      "source": [
        "df_final = df_merged.drop(columns=[\"TT-1 Marks\", \"TT-2 Marks\"])\n",
        "print(df_final)"
      ],
      "metadata": {
        "colab": {
          "base_uri": "https://localhost:8080/"
        },
        "id": "YlA99fqfTWb5",
        "outputId": "7ddccc58-a99d-4ee8-df46-22f71f0aab55"
      },
      "execution_count": 14,
      "outputs": [
        {
          "output_type": "stream",
          "name": "stdout",
          "text": [
            "    Registration Number                   Name  Best Marks  Average Marks\n",
            "0                 21001          Salma Sultana        15.5          15.00\n",
            "1                 21002          Tamjidul Miad        13.5          11.00\n",
            "2                 21003        Debabrata Dhar         15.5          13.50\n",
            "3                 21004           Sabiha Akter        15.0          14.00\n",
            "4                 21005           Avishak Dhar        16.0          13.25\n",
            "5                 21006         Syeda Sabrina         14.5          13.50\n",
            "6                 21007          Mainul Islam         17.0          16.75\n",
            "7                 21008            Syeda Israt        13.5          11.00\n",
            "8                 21009     Tanvia Akter Prome        15.0          11.75\n",
            "9                 21010   Md. Ohiduzzaman Anik        18.5          17.75\n",
            "10                21011      Shahila Chowdhury        18.5          18.00\n",
            "11                21012       Shawon Sutradhar        18.0          17.50\n",
            "12                21013          Nur Mohammad         15.5          11.50\n",
            "13                21014            Akash Ahmed        14.5          13.00\n",
            "14                21015          Mahmuda Afzal        16.5          15.00\n",
            "15                21016              Md. Sagar        15.5          15.00\n",
            "16                21017             Progga Roy        14.0          13.50\n",
            "17                21018          Md. Ilias Ali        14.0          13.25\n",
            "18                21019        Md. Tasnim Alam        15.5          10.00\n",
            "19                21020               Dipa Deb        18.0          17.25\n",
            "20                21021          Shahin Ahmed         17.5          17.00\n",
            "21                21022       Md. Nashim Ahmed        17.5          17.00\n",
            "22                21023        Sumona Bhowmik         14.0          13.25\n",
            "23                21024         Sheakh Fahimur        15.5          14.75\n",
            "24                21025      Mitu Chakroborthi        15.5          12.75\n",
            "25                21026            Saima Islam        13.5          11.50\n",
            "26                21027     Chowdhury Shahrear        18.0          17.00\n",
            "27                21028             Akash Paul        17.5          16.50\n",
            "28                21029      Sobuj Chandra Das        15.0          13.50\n",
            "29                21030  Akber Shiddique Sunny        13.5          13.25\n",
            "30                21031     Sumaiya Akter Sumi        16.5          16.25\n",
            "31                21032             Md. Shakil        13.0          12.25\n",
            "32                21033           Md Abu Sayed        12.0          11.25\n",
            "33                21034     Sanjida Kabir Ento        16.0          15.75\n",
            "34                21035            Tania Begum        16.5          15.25\n",
            "35                21036            Md. Zakaria        14.0          13.25\n",
            "36                21037             Tamim Miah        17.5          17.00\n",
            "37                21038       Tasnim Tabassum         10.5           7.75\n",
            "38                21039      Mst. Faujia Afrin        17.5          16.50\n",
            "39                21040          Sumita Rymbai        18.5          16.50\n",
            "40                21041          Nafiul Muksit        14.0           7.00\n",
            "41                21042            Akash Naidu        15.5          13.00\n",
            "42                21043       Md. Arafat Hosan        16.5          16.50\n",
            "43                21044           Billah Adnan        17.0           9.00\n",
            "44                21045         Hussain Shohag        18.5          18.25\n",
            "45                21046    Nishat Jahan Borsha        14.0          12.75\n",
            "46                21047        Mahpara Hossain        12.5          10.75\n",
            "47                21048          Hosain Refaz         16.0          14.50\n",
            "48                21049       Md. Arafat Hosan        16.5          15.25\n",
            "49                21050       Muntasir Billah         15.0          14.00\n"
          ]
        }
      ]
    },
    {
      "cell_type": "code",
      "source": [
        "df_final.to_csv(\"final_term_test_result.csv\", index=False)"
      ],
      "metadata": {
        "id": "0uO6FRZVTa_q"
      },
      "execution_count": 15,
      "outputs": []
    },
    {
      "cell_type": "code",
      "source": [
        "X = df_final[[\"Average Marks\"]]\n",
        "k = 3\n",
        "kmeans = KMeans(n_clusters=k, random_state=42)\n",
        "df_final[\"Cluster\"] = kmeans.fit_predict(X)\n",
        "print(df_final)"
      ],
      "metadata": {
        "id": "I1EFE1DpT_xy",
        "colab": {
          "base_uri": "https://localhost:8080/"
        },
        "outputId": "87d92ed8-bb23-465e-97bc-7f229ee4ff7e"
      },
      "execution_count": 17,
      "outputs": [
        {
          "output_type": "stream",
          "name": "stdout",
          "text": [
            "    Registration Number                   Name  Best Marks  Average Marks  \\\n",
            "0                 21001          Salma Sultana        15.5          15.00   \n",
            "1                 21002          Tamjidul Miad        13.5          11.00   \n",
            "2                 21003        Debabrata Dhar         15.5          13.50   \n",
            "3                 21004           Sabiha Akter        15.0          14.00   \n",
            "4                 21005           Avishak Dhar        16.0          13.25   \n",
            "5                 21006         Syeda Sabrina         14.5          13.50   \n",
            "6                 21007          Mainul Islam         17.0          16.75   \n",
            "7                 21008            Syeda Israt        13.5          11.00   \n",
            "8                 21009     Tanvia Akter Prome        15.0          11.75   \n",
            "9                 21010   Md. Ohiduzzaman Anik        18.5          17.75   \n",
            "10                21011      Shahila Chowdhury        18.5          18.00   \n",
            "11                21012       Shawon Sutradhar        18.0          17.50   \n",
            "12                21013          Nur Mohammad         15.5          11.50   \n",
            "13                21014            Akash Ahmed        14.5          13.00   \n",
            "14                21015          Mahmuda Afzal        16.5          15.00   \n",
            "15                21016              Md. Sagar        15.5          15.00   \n",
            "16                21017             Progga Roy        14.0          13.50   \n",
            "17                21018          Md. Ilias Ali        14.0          13.25   \n",
            "18                21019        Md. Tasnim Alam        15.5          10.00   \n",
            "19                21020               Dipa Deb        18.0          17.25   \n",
            "20                21021          Shahin Ahmed         17.5          17.00   \n",
            "21                21022       Md. Nashim Ahmed        17.5          17.00   \n",
            "22                21023        Sumona Bhowmik         14.0          13.25   \n",
            "23                21024         Sheakh Fahimur        15.5          14.75   \n",
            "24                21025      Mitu Chakroborthi        15.5          12.75   \n",
            "25                21026            Saima Islam        13.5          11.50   \n",
            "26                21027     Chowdhury Shahrear        18.0          17.00   \n",
            "27                21028             Akash Paul        17.5          16.50   \n",
            "28                21029      Sobuj Chandra Das        15.0          13.50   \n",
            "29                21030  Akber Shiddique Sunny        13.5          13.25   \n",
            "30                21031     Sumaiya Akter Sumi        16.5          16.25   \n",
            "31                21032             Md. Shakil        13.0          12.25   \n",
            "32                21033           Md Abu Sayed        12.0          11.25   \n",
            "33                21034     Sanjida Kabir Ento        16.0          15.75   \n",
            "34                21035            Tania Begum        16.5          15.25   \n",
            "35                21036            Md. Zakaria        14.0          13.25   \n",
            "36                21037             Tamim Miah        17.5          17.00   \n",
            "37                21038       Tasnim Tabassum         10.5           7.75   \n",
            "38                21039      Mst. Faujia Afrin        17.5          16.50   \n",
            "39                21040          Sumita Rymbai        18.5          16.50   \n",
            "40                21041          Nafiul Muksit        14.0           7.00   \n",
            "41                21042            Akash Naidu        15.5          13.00   \n",
            "42                21043       Md. Arafat Hosan        16.5          16.50   \n",
            "43                21044           Billah Adnan        17.0           9.00   \n",
            "44                21045         Hussain Shohag        18.5          18.25   \n",
            "45                21046    Nishat Jahan Borsha        14.0          12.75   \n",
            "46                21047        Mahpara Hossain        12.5          10.75   \n",
            "47                21048          Hosain Refaz         16.0          14.50   \n",
            "48                21049       Md. Arafat Hosan        16.5          15.25   \n",
            "49                21050       Muntasir Billah         15.0          14.00   \n",
            "\n",
            "    Cluster  \n",
            "0         1  \n",
            "1         0  \n",
            "2         1  \n",
            "3         1  \n",
            "4         1  \n",
            "5         1  \n",
            "6         2  \n",
            "7         0  \n",
            "8         0  \n",
            "9         2  \n",
            "10        2  \n",
            "11        2  \n",
            "12        0  \n",
            "13        1  \n",
            "14        1  \n",
            "15        1  \n",
            "16        1  \n",
            "17        1  \n",
            "18        0  \n",
            "19        2  \n",
            "20        2  \n",
            "21        2  \n",
            "22        1  \n",
            "23        1  \n",
            "24        1  \n",
            "25        0  \n",
            "26        2  \n",
            "27        2  \n",
            "28        1  \n",
            "29        1  \n",
            "30        2  \n",
            "31        1  \n",
            "32        0  \n",
            "33        2  \n",
            "34        1  \n",
            "35        1  \n",
            "36        2  \n",
            "37        0  \n",
            "38        2  \n",
            "39        2  \n",
            "40        0  \n",
            "41        1  \n",
            "42        2  \n",
            "43        0  \n",
            "44        2  \n",
            "45        1  \n",
            "46        0  \n",
            "47        1  \n",
            "48        1  \n",
            "49        1  \n"
          ]
        }
      ]
    },
    {
      "cell_type": "code",
      "source": [
        "plt.scatter(df_final[\"Average Marks\"], [0] * len(df_final), c=df_final[\"Cluster\"], cmap='viridis', edgecolors='k')\n",
        "plt.xlabel(\"Average Marks\")\n",
        "plt.title(\"K-Means Clustering of Student Marks\")\n",
        "plt.show()"
      ],
      "metadata": {
        "id": "W0IzB4KpUJIK",
        "outputId": "3c805575-454f-437d-fea8-6ddc38056c2c",
        "colab": {
          "base_uri": "https://localhost:8080/",
          "height": 472
        }
      },
      "execution_count": 18,
      "outputs": [
        {
          "output_type": "display_data",
          "data": {
            "text/plain": [
              "<Figure size 640x480 with 1 Axes>"
            ],
            "image/png": "[encoded data removed]"
          },
          "metadata": {}
        }
      ]
    }
  ]
}